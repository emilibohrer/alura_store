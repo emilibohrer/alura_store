{
  "cells": [
    {
      "cell_type": "markdown",
      "metadata": {
        "id": "RhEdWd9YUR6H"
      },
      "source": [
        "### Importação dos dados\n",
        "\n"
      ]
    },
    {
      "cell_type": "code",
      "execution_count": null,
      "metadata": {
        "colab": {
          "base_uri": "https://localhost:8080/",
          "height": 206
        },
        "id": "T3EvaeQ_INIL",
        "outputId": "7194bc65-372c-47e6-cb47-d4bfc9952c91"
      },
      "outputs": [],
      "source": [
        "import pandas as pd\n",
        "import numpy as np\n",
        "\n",
        "import matplotlib.pyplot as plt\n",
        "import matplotlib.cm as cm\n",
        "import matplotlib.dates as mdates\n",
        "import matplotlib.ticker as ticker\n",
        "import seaborn as sns\n",
        "\n",
        "url = \"https://raw.githubusercontent.com/alura-es-cursos/challenge1-data-science/refs/heads/main/base-de-dados-challenge-1/loja_1.csv\"\n",
        "url2 = \"https://raw.githubusercontent.com/alura-es-cursos/challenge1-data-science/refs/heads/main/base-de-dados-challenge-1/loja_2.csv\"\n",
        "url3 = \"https://raw.githubusercontent.com/alura-es-cursos/challenge1-data-science/refs/heads/main/base-de-dados-challenge-1/loja_3.csv\"\n",
        "url4 = \"https://raw.githubusercontent.com/alura-es-cursos/challenge1-data-science/refs/heads/main/base-de-dados-challenge-1/loja_4.csv\"\n",
        "\n",
        "loja = pd.read_csv(url)\n",
        "loja2 = pd.read_csv(url2)\n",
        "loja3 = pd.read_csv(url3)\n",
        "loja4 = pd.read_csv(url4)\n",
        "\n",
        "loja.head()"
      ]
    },
    {
      "cell_type": "code",
      "execution_count": null,
      "metadata": {},
      "outputs": [],
      "source": [
        "print(f'loja1: {loja.shape[0]} \\nloja2: {loja2.shape[0]} \\nloja3: {loja3.shape[0]} \\nloja54: {loja4.shape[0]}')\n",
        "print(f'Colunas: {list(loja.columns)}')"
      ]
    },
    {
      "cell_type": "code",
      "execution_count": null,
      "metadata": {},
      "outputs": [],
      "source": [
        "loja['loja'] = 1\n",
        "loja2['loja'] = 2\n",
        "loja3['loja'] = 3\n",
        "loja4['loja'] = 4           \n",
        "\n",
        "df = pd.concat([loja, loja2, loja3, loja4], ignore_index=True)\n",
        "df.head()"
      ]
    },
    {
      "cell_type": "code",
      "execution_count": null,
      "metadata": {},
      "outputs": [],
      "source": [
        "# identificando os tipos de dados e dados nulos\n",
        "\n",
        "df.info()"
      ]
    },
    {
      "cell_type": "code",
      "execution_count": null,
      "metadata": {},
      "outputs": [],
      "source": [
        "df.describe(include='all')"
      ]
    },
    {
      "cell_type": "markdown",
      "metadata": {
        "id": "X62IW3KFUIYm"
      },
      "source": [
        "# 1. Analise Faturamento"
      ]
    },
    {
      "cell_type": "code",
      "execution_count": null,
      "metadata": {
        "id": "xykobSftV64I"
      },
      "outputs": [],
      "source": [
        "df_group_fat = df.groupby('loja')['Preço'].sum().sort_values(ascending=False).reset_index()\n",
        "df_group_fat.plot(x='loja', y='Preço', kind='bar', figsize=(7, 3), title='Total de vendas por loja', legend=False)  # Removendo a legenda\n",
        "\n",
        "plt.ticklabel_format(style='plain', axis='y')  \n",
        "plt.gca().get_yaxis().set_major_formatter(ticker.FuncFormatter(lambda x, pos: f'{x:,.0f}'))  \n",
        "plt.xticks(rotation=45)  \n",
        "\n",
        "plt.show()\n"
      ]
    },
    {
      "cell_type": "code",
      "execution_count": null,
      "metadata": {
        "id": "KDyr8E71V3m-"
      },
      "outputs": [],
      "source": [
        "plt.figure(figsize=(6, 4))\n",
        "sns.boxplot(y=df_group_fat['Preço'])\n",
        "\n",
        "plt.ticklabel_format(style='plain', axis='y') \n",
        "plt.gca().get_yaxis().set_major_formatter(ticker.FuncFormatter(lambda x, pos: f'{x:,.0f}')) \n",
        "plt.title('Boxplot Faturamento lojas')\n",
        "plt.ylabel('Faturamento')\n",
        "\n",
        "plt.show()"
      ]
    },
    {
      "cell_type": "code",
      "execution_count": null,
      "metadata": {},
      "outputs": [],
      "source": [
        "df_fat_loja = df.copy()\n",
        "df_fat_loja['Data da Compra'] = pd.to_datetime(df_fat_loja['Data da Compra'], format='%d/%m/%Y')\n",
        "df_fat_loja['Mes_Ano'] = df_fat_loja['Data da Compra'].dt.to_period('M') \n",
        "df_fat_loja['Ano'] = df_fat_loja['Data da Compra'].dt.to_period('Y') \n",
        "df_group_fat_loja = df_fat_loja.groupby(['loja','Mes_Ano'])['Preço'].sum().reset_index()\n",
        "\n",
        "plt.figure(figsize=(20, 4))\n",
        "\n",
        "colors = cm.tab10(np.linspace(0, 1, len(df_group_fat_loja['loja'].unique())))  # Gera cores únicas para cada loja\n",
        "\n",
        "for idx, i in enumerate(df_group_fat_loja['loja'].unique()):\n",
        "\n",
        "    df_aux = df_group_fat_loja[df_group_fat_loja['loja'] == i].copy()\n",
        "    df_aux = df_aux.sort_values('Mes_Ano')\n",
        "    df_aux.set_index('Mes_Ano', inplace=True)\n",
        "    df_aux['CUMSUM'] = df_aux['Preço'].cumsum()\n",
        "\n",
        "    plt.plot(df_aux.index.astype(str), df_aux['CUMSUM'], label=f'Loja {i}', color=colors[idx])  # Formata o eixo x para exibir Mês-Ano\n",
        "\n",
        "plt.title('Faturamento Acumulado por Loja ao longo do tempo')\n",
        "plt.xlabel('Mes_Ano')\n",
        "plt.ylabel('Faturamento')\n",
        "plt.legend()\n",
        "plt.ticklabel_format(style='plain', axis='y')  \n",
        "plt.gca().get_yaxis().set_major_formatter(ticker.FuncFormatter(lambda x, pos: f'{x:,.0f}')) \n",
        "plt.xticks(rotation=45)  \n",
        "plt.show()\n",
        "\n",
        "\n",
        "\"\"\"\n",
        "Gráfico de barras agrupado por ano\n",
        "\"\"\"\n",
        "df_group_fat_loja = df_fat_loja.groupby(['loja','Ano'])['Preço'].sum().reset_index()\n",
        "df_pivot = df_group_fat_loja.pivot(index='Ano', columns='loja', values='Preço')\n",
        "\n",
        "bar_width = 0.2\n",
        "\n",
        "plt.figure(figsize=(10, 4))\n",
        "anos = df_pivot.index.astype(str)\n",
        "x = np.arange(len(anos))  # Posições no eixo x\n",
        "\n",
        "\n",
        "for idx, loja in enumerate(df_pivot.columns):\n",
        "    plt.bar(x + idx * bar_width, df_pivot[loja], width=bar_width, label=f'Loja {loja}',color=colors[idx])\n",
        "\n",
        "plt.xticks(x + bar_width * (len(df_pivot.columns) / 2), anos)  # Ajusta posição dos rótulos\n",
        "plt.title('Faturamento por Loja Agrupado por Ano')\n",
        "plt.xlabel('Ano')\n",
        "plt.ylabel('Faturamento')\n",
        "plt.legend()\n",
        "plt.ticklabel_format(style='plain', axis='y')  # Evita notação científica\n",
        "plt.show()"
      ]
    },
    {
      "cell_type": "markdown",
      "metadata": {
        "id": "2V_vcAPzWZmR"
      },
      "source": [
        "# 2. Vendas por Categoria\n"
      ]
    },
    {
      "cell_type": "code",
      "execution_count": null,
      "metadata": {
        "id": "A34YupIuYhfF"
      },
      "outputs": [],
      "source": [
        "print(f\"Categorias:' {len(df['Categoria do Produto'].unique())} \\n{list(df['Categoria do Produto'].unique())}\")\n",
        "\n",
        "\n",
        "print('\\nContagem de categorias por loja')\n",
        "df_category_count = df.groupby('loja')['Categoria do Produto'].nunique().reset_index()\n",
        "df_category_count = df_category_count.sort_values('loja')\n",
        "\n",
        "print(df_category_count)"
      ]
    },
    {
      "cell_type": "code",
      "execution_count": null,
      "metadata": {
        "id": "yZR6cOjXYSk1"
      },
      "outputs": [],
      "source": [
        "df_group_cat = df.groupby(['loja', 'Categoria do Produto']).agg(\n",
        "    valor_total=('Preço', 'sum'),\n",
        "    quantidade=('Preço', 'count')\n",
        ").reset_index()\n",
        "\n",
        "\n",
        "\"\"\"\n",
        "GRAFICO DE PIZZA\n",
        "\"\"\"\n",
        "\n",
        "# Definir quantidade de lojas\n",
        "num_lojas = len(df_group_cat['loja'].unique())\n",
        "\n",
        "# Criar a figura com subplots (definindo linhas e colunas automaticamente)\n",
        "fig, axes = plt.subplots(1, num_lojas, figsize=(6 * num_lojas, 6))\n",
        "\n",
        "# Garantir que 'axes' seja sempre um array, mesmo quando há apenas uma loja\n",
        "if num_lojas == 1:\n",
        "    axes = [axes]\n",
        "\n",
        "# Iterar sobre cada loja e criar o gráfico de pizza correspondente\n",
        "for idx, loja in enumerate(df_group_cat['loja'].unique()):\n",
        "    df_aux = df_group_cat[df_group_cat['loja'] == loja].copy()\n",
        "    df_aux = df_aux.sort_values('valor_total', ascending=False)\n",
        "    \n",
        "    axes[idx].pie(df_aux['valor_total'], labels=df_aux['Categoria do Produto'], autopct='%1.1f%%', \n",
        "                  colors=plt.cm.viridis(np.linspace(0, 1, len(df_aux))))\n",
        "    axes[idx].set_title(f'Faturamento por Categoria - Loja {loja}')\n",
        "\n",
        "# Ajustar layout para melhor visualização\n",
        "plt.tight_layout()\n",
        "plt.show()\n",
        "\n",
        "\"\"\" \n",
        "GRAFICO DE PIZZA COM QUANTIDADE\"\"\"\n",
        "\n",
        "# Criar a figura com subplots (uma linha, várias colunas)\n",
        "fig, axes = plt.subplots(1, num_lojas, figsize=(6 * num_lojas, 6))\n",
        "\n",
        "# Garantir que 'axes' seja sempre um array, mesmo quando há apenas uma loja\n",
        "if num_lojas == 1:\n",
        "    axes = [axes]\n",
        "\n",
        "# Iterar sobre cada loja e criar o gráfico de pizza correspondente\n",
        "for idx, loja in enumerate(df_group_cat['loja'].unique()):\n",
        "    df_aux = df_group_cat[df_group_cat['loja'] == loja].copy()\n",
        "    df_aux = df_aux.sort_values('quantidade', ascending=False)\n",
        "    \n",
        "    # Criar gráfico de pizza com rótulos de quantidades\n",
        "    axes[idx].pie(df_aux['quantidade'], labels=df_aux['Categoria do Produto'], \n",
        "                  autopct=lambda p: f'{int(p * df_aux[\"quantidade\"].sum() / 100)}', \n",
        "                  colors=plt.cm.viridis(np.linspace(0, 1, len(df_aux))))\n",
        "    axes[idx].set_title(f'Quantidade de itens por Categoria - Loja {loja}')\n",
        "\n",
        "# Ajustar layout para melhor visualização\n",
        "plt.tight_layout()\n",
        "plt.show()\n",
        "\n",
        "\"\"\"\n",
        "GRAFICO DE BARRAS EMPILHADAS\n",
        "\"\"\"\n",
        "\n",
        "# Transformar os valores em percentuais\n",
        "df_group_cat['percentual'] = df_group_cat.groupby('loja')['valor_total'].transform(lambda x: x / x.sum() * 100)\n",
        "\n",
        "# Criar tabela pivô para barras empilhadas\n",
        "df_pivot = df_group_cat.pivot(index='loja', columns='Categoria do Produto', values='percentual')\n",
        "\n",
        "# Configurar posições e largura das barras\n",
        "bar_width = 0.8\n",
        "x = np.arange(len(df_pivot.index))  # Posições no eixo x\n",
        "\n",
        "plt.figure(figsize=(14, 6))\n",
        "bottom = np.zeros(len(df_pivot.index))  # Inicializador para empilhamento\n",
        "\n",
        "# Iterar sobre as categorias e empilhar as barras\n",
        "for categoria in df_pivot.columns:\n",
        "    bars = plt.bar(x, df_pivot[categoria], width=bar_width, label=categoria, bottom=bottom)\n",
        "    \n",
        "    # Adicionar rótulos diretamente nas barras\n",
        "    for bar in bars:\n",
        "        height = bar.get_height()\n",
        "        if height > 2:  # Exibir apenas valores significativos\n",
        "            plt.text(bar.get_x() + bar.get_width() / 2, bar.get_y() + height / 2, f'{height:.1f}%', ha='center', va='center', fontsize=10, color='white')\n",
        "\n",
        "    bottom += df_pivot[categoria].fillna(0)  # Atualizar posição para empilhamento\n",
        "\n",
        "# Ajustar rótulos e título\n",
        "plt.xticks(x, df_pivot.index, rotation=45)\n",
        "plt.title('Distribuição Percentual do Faturamento por Loja')\n",
        "plt.xlabel('Loja')\n",
        "plt.ylabel('Percentual do Faturamento (%)')\n",
        "plt.gca().get_yaxis().set_major_formatter(plt.FuncFormatter(lambda x, pos: f'{x:.0f}%'))  # Formatar eixo y como percentual\n",
        "\n",
        "# Posicionar a legenda fora do gráfico (lado direito)\n",
        "plt.legend(title='Categoria do Produto', bbox_to_anchor=(1.05, 1), loc='upper left')\n",
        "\n",
        "plt.show()"
      ]
    },
    {
      "cell_type": "markdown",
      "metadata": {
        "id": "Rq6tU_xSY3jk"
      },
      "source": [
        "# 3. Média de Avaliação das Lojas"
      ]
    },
    {
      "cell_type": "code",
      "execution_count": null,
      "metadata": {},
      "outputs": [],
      "source": [
        "df_cat_aux = df.groupby('Categoria do Produto').agg(valor_total=('Preço', 'sum'), quantidade=('Produto', 'count')).sort_values('valor_total', ascending=False).reset_index()\n",
        "df_cat_aux['percentual'] = df_cat_aux['valor_total'] / df_cat_aux['valor_total'].sum() * 100\n",
        "df_cat_aux['cumsum'] = df_cat_aux['percentual'].cumsum()\n",
        "df_cat_aux['cumsum'] = df_cat_aux['cumsum'].round(2)\n",
        "CATEGORIAS_RELEVANTES = df_cat_aux[df_cat_aux['cumsum']<90]['Categoria do Produto'].unique()"
      ]
    },
    {
      "cell_type": "code",
      "execution_count": null,
      "metadata": {},
      "outputs": [],
      "source": [
        "df.head(5)"
      ]
    },
    {
      "cell_type": "code",
      "execution_count": null,
      "metadata": {
        "id": "bh3jjjJwY5MU"
      },
      "outputs": [],
      "source": [
        "df_aux = df.copy()\n",
        "df_group_a = df_aux.groupby('loja')['Avaliação da compra'].mean().reset_index()\n",
        "\n",
        "ax = df_group_a.plot(x='loja', y='Avaliação da compra', kind='bar', figsize=(7, 3), title='Média de Avaliação por Loja (TOTAL)', legend=False)\n",
        "\n",
        "plt.ylim(0, 5)  # Define o limite do eixo y\n",
        "plt.ticklabel_format(style='plain', axis='y')\n",
        "plt.gca().get_yaxis().set_major_formatter(ticker.FuncFormatter(lambda x, pos: f'{x:,.0f}'))\n",
        "plt.xticks(rotation=45)\n",
        "\n",
        "# Adicionar rótulos sobre as barras\n",
        "for p in ax.patches:\n",
        "    ax.annotate(f'{p.get_height():.2f}', \n",
        "                (p.get_x() + p.get_width() / 2, min(p.get_height(), 5)),  # Garante que os rótulos fiquem dentro do limite\n",
        "                ha='center', va='bottom', fontsize=8, color='black')\n",
        "\n",
        "plt.show()\n",
        "\n",
        "\n",
        "df_aux = df.copy()\n",
        "df_aux = df_aux[df_aux['Categoria do Produto'].isin(CATEGORIAS_RELEVANTES)]\n",
        "df_group_a = df_aux.groupby('loja')['Avaliação da compra'].mean().reset_index()\n",
        "\n",
        "ax = df_group_a.plot(x='loja', y='Avaliação da compra', kind='bar', figsize=(7, 3), title='Média de Avaliação por Loja (categorias mais relevantes)', legend=False)\n",
        "\n",
        "plt.ylim(0, 5)  # Define o limite do eixo y\n",
        "plt.ticklabel_format(style='plain', axis='y')\n",
        "plt.gca().get_yaxis().set_major_formatter(ticker.FuncFormatter(lambda x, pos: f'{x:,.0f}'))\n",
        "plt.xticks(rotation=45)\n",
        "\n",
        "# Adicionar rótulos sobre as barras\n",
        "for p in ax.patches:\n",
        "    ax.annotate(f'{p.get_height():.2f}', \n",
        "                (p.get_x() + p.get_width() / 2, min(p.get_height(), 5)),  # Garante que os rótulos fiquem dentro do limite\n",
        "                ha='center', va='bottom', fontsize=8, color='black')\n",
        "\n",
        "plt.show()\n"
      ]
    },
    {
      "cell_type": "code",
      "execution_count": null,
      "metadata": {
        "id": "I0KkjPoTY88F"
      },
      "outputs": [],
      "source": [
        "plt.figure(figsize=(4, 4))\n",
        "sns.boxplot(y=df_group_a['Avaliação da compra'])\n",
        "\n",
        "# Calcular média e mediana\n",
        "media = df_group_a['Avaliação da compra'].mean()\n",
        "mediana = df_group_a['Avaliação da compra'].median()\n",
        "\n",
        "# Adicionar linhas para média e mediana\n",
        "plt.axhline(media, color='blue', linestyle='--', label=f'Média: {media:.2f}')\n",
        "plt.axhline(mediana, color='red', linestyle='-', label=f'Mediana: {mediana:.2f}')\n",
        "\n",
        "plt.title('Boxplot Avaliação da Compra (MÉDIAS) - GERAL')\n",
        "plt.ylabel('Avaliação')\n",
        "# plt.legend(loc='upper right')  # Posicionar a legenda\n",
        "plt.legend(title='Legenda', bbox_to_anchor=(1.05, 1), loc='upper left')\n",
        "\n",
        "plt.show()\n"
      ]
    },
    {
      "cell_type": "code",
      "execution_count": null,
      "metadata": {},
      "outputs": [],
      "source": [
        "plt.figure(figsize=(12, 6))  # Ajustar tamanho da figura\n",
        "sns.boxplot(x='loja', y='Avaliação da compra', data=df)\n",
        "# sns.boxplot(x='loja', y='Avaliação da compra', data=df, showfliers=False)  # Remover outliers\n",
        "\n",
        "plt.title('Boxplot das Avaliações por Loja')\n",
        "plt.xlabel('Loja')\n",
        "plt.ylabel('Avaliação da compra')\n",
        "plt.xticks(rotation=45)  # Melhorar legibilidade dos rótulos\n",
        "\n",
        "plt.show()"
      ]
    },
    {
      "cell_type": "code",
      "execution_count": null,
      "metadata": {},
      "outputs": [],
      "source": [
        "df_a = df.copy()\n",
        "df_a['Data da Compra'] = pd.to_datetime(df_a['Data da Compra'], format='%d/%m/%Y')\n",
        "df_a['Mes_Ano'] = df_a['Data da Compra'].dt.to_period('M') \n",
        "df_a['Ano'] = df_a['Data da Compra'].dt.to_period('Y') \n",
        "\n",
        "# Definir quantidade de lojas\n",
        "num_lojas = len(df_a['loja'].unique())\n",
        "\n",
        "# Criar subplots (uma linha com várias colunas)\n",
        "fig, axes = plt.subplots(1, num_lojas, figsize=(6 * num_lojas, 6), sharey=True)\n",
        "\n",
        "# Garantir que 'axes' seja sempre uma lista, mesmo se houver apenas uma loja\n",
        "if num_lojas == 1:\n",
        "    axes = [axes]\n",
        "\n",
        "# Gerar boxplots para cada loja\n",
        "for idx, loja in enumerate(df_a['loja'].unique()):\n",
        "    df_aux = df_a[df_a['loja'] == loja].sort_values('Ano').copy()\n",
        "    \n",
        "    sns.boxplot(x='Ano', y='Avaliação da compra', data=df_aux, ax=axes[idx])  # Remover outliers\n",
        "    axes[idx].set_title(f'Avaliação por Ano - Loja {loja}')\n",
        "    axes[idx].set_xlabel('Ano')\n",
        "    axes[idx].set_ylabel('Avaliação')\n",
        "    axes[idx].tick_params(axis='x', rotation=45)  # Girar rótulos do eixo x para melhor legibilidade\n",
        "\n",
        "# Ajustar layout para melhor visualização\n",
        "plt.tight_layout()\n",
        "plt.show()\n"
      ]
    },
    {
      "cell_type": "code",
      "execution_count": null,
      "metadata": {},
      "outputs": [],
      "source": [
        "df_time_ano = df_a.groupby(['Ano', 'loja'])['Avaliação da compra'].mean().reset_index()\n",
        "df_time_ano['Media_Movel'] = df_time_ano.groupby('loja')['Avaliação da compra'].transform(lambda x: x.rolling(window=3, min_periods=1).mean())\n",
        "\n",
        "df_time_ano['Ano'] = df_time_ano['Ano'].astype(str)  # Converter para string\n",
        "\n",
        "plt.figure(figsize=(12, 6))\n",
        "\n",
        "# Iterar sobre as lojas e plotar com as cores definidas\n",
        "for idx, loja in enumerate(df_time_ano['loja'].unique()):\n",
        "    df_aux = df_time_ano[df_time_ano['loja'] == loja]\n",
        "    sns.lineplot(x='Ano', y='Media_Movel', data=df_aux, marker='o', color=colors[idx], label=f'Loja {loja}')\n",
        "\n",
        "plt.title('Média Móvel das Avaliações das Lojas por Ano', fontsize=16)\n",
        "plt.xlabel('Ano')\n",
        "plt.ylabel('Avaliação Média')\n",
        "plt.xticks(rotation=45)\n",
        "plt.legend(title='Loja')\n",
        "\n",
        "plt.show()"
      ]
    },
    {
      "cell_type": "code",
      "execution_count": null,
      "metadata": {},
      "outputs": [],
      "source": [
        "\n",
        "df_time = df_a.groupby(['Mes_Ano', 'loja'])['Avaliação da compra'].mean().reset_index()\n",
        "df_time['Media_Movel'] = df_time.groupby('loja')['Avaliação da compra'].transform(lambda x: x.rolling(window=3, min_periods=1).mean())\n",
        "df_time['Mes_Ano'] = df_time['Mes_Ano'].astype(str)  # Converter para string se necessário\n",
        "\n",
        "plt.figure(figsize=(20, 4))\n",
        "\n",
        "# Iterar sobre as lojas e plotar com as cores definidas\n",
        "for idx, loja in enumerate(df_time['loja'].unique()):\n",
        "    df_aux = df_time[df_time['loja'] == loja]\n",
        "    sns.lineplot(x='Mes_Ano', y='Media_Movel', data=df_aux, marker='o', color=colors[idx], label=f'Loja {loja}')\n",
        "\n",
        "plt.title('Média Móvel das Avaliações das Lojas',fontsize=16)\n",
        "plt.xlabel('Mês-Ano')\n",
        "plt.ylabel('Avaliação Média')\n",
        "plt.xticks(rotation=45)\n",
        "plt.legend(title='Loja')\n",
        "\n",
        "plt.show()"
      ]
    },
    {
      "cell_type": "code",
      "execution_count": null,
      "metadata": {},
      "outputs": [],
      "source": [
        "# Criar um boxplot separado para cada loja\n",
        "for loja in df['loja'].unique():\n",
        "    df_aux = df[df['loja'] == loja].copy()\n",
        "\n",
        "    plt.figure(figsize=(8, 3))\n",
        "    sns.boxplot(x='Categoria do Produto', y='Avaliação da compra', data=df_aux, showfliers=False)  # Remover outliers\n",
        "    \n",
        "    plt.title(f'Boxplot das Avaliações por Categoria - Loja {loja}')\n",
        "    plt.xlabel('Categoria do Produto')\n",
        "    plt.ylabel('Avaliação da compra')\n",
        "    plt.xticks(rotation=45)  # Melhorar legibilidade dos rótulos\n",
        "    \n",
        "    plt.show()"
      ]
    },
    {
      "cell_type": "code",
      "execution_count": null,
      "metadata": {},
      "outputs": [],
      "source": [
        "import matplotlib.pyplot as plt\n",
        "import seaborn as sns\n",
        "\n",
        "# Agrupar os dados para obter a média por loja e categoria\n",
        "df_media = df.groupby(['loja', 'Categoria do Produto'])['Avaliação da compra'].mean().reset_index()\n",
        "\n",
        "# Calcular a média geral por categoria\n",
        "df_media_geral = df.groupby('Categoria do Produto')['Avaliação da compra'].mean().reset_index()\n",
        "\n",
        "plt.figure(figsize=(12, 6))\n",
        "\n",
        "# Plotar as médias individuais das lojas por categoria\n",
        "sns.barplot(x='Categoria do Produto', y='Avaliação da compra', hue='loja', data=df_media, palette=colors)\n",
        "\n",
        "# Adicionar apenas os marcadores da média geral por categoria\n",
        "sns.pointplot(x='Categoria do Produto', y='Avaliação da compra', data=df_media_geral, color='black', markers='_', linestyles=\"\", scale=2, label='Média Geral', ci=None)\n",
        "\n",
        "plt.title('Média de Avaliação por Loja e Categoria (com Marcadores de Média Geral)')\n",
        "plt.xlabel('Categoria do Produto')\n",
        "plt.ylabel('Avaliação Média')\n",
        "plt.xticks(rotation=45)\n",
        "plt.legend(title='Lojas', bbox_to_anchor=(1.05, 1), loc='upper left')  # Legenda fora do gráfico\n",
        "plt.ylim(3.5, 4.5)\n",
        "\n",
        "plt.show()"
      ]
    },
    {
      "cell_type": "markdown",
      "metadata": {
        "id": "DmNp1KPBZCm-"
      },
      "source": [
        "# 4. Produtos Mais e Menos Vendidos"
      ]
    },
    {
      "cell_type": "code",
      "execution_count": null,
      "metadata": {
        "id": "qoyjqijQZHfF"
      },
      "outputs": [],
      "source": []
    },
    {
      "cell_type": "code",
      "execution_count": null,
      "metadata": {
        "id": "0Sw3sd4IZIGW"
      },
      "outputs": [],
      "source": []
    },
    {
      "cell_type": "markdown",
      "metadata": {
        "id": "Fl0cGi3bZKqU"
      },
      "source": [
        "# 5. Frete Médio por Loja\n"
      ]
    },
    {
      "cell_type": "code",
      "execution_count": null,
      "metadata": {
        "id": "S2JeaCykZNy9"
      },
      "outputs": [],
      "source": []
    },
    {
      "cell_type": "code",
      "execution_count": null,
      "metadata": {
        "id": "0tSdCie9ZQlt"
      },
      "outputs": [],
      "source": []
    }
  ],
  "metadata": {
    "colab": {
      "provenance": []
    },
    "kernelspec": {
      "display_name": "Python 3",
      "name": "python3"
    },
    "language_info": {
      "codemirror_mode": {
        "name": "ipython",
        "version": 3
      },
      "file_extension": ".py",
      "mimetype": "text/x-python",
      "name": "python",
      "nbconvert_exporter": "python",
      "pygments_lexer": "ipython3",
      "version": "3.11.9"
    }
  },
  "nbformat": 4,
  "nbformat_minor": 0
}
